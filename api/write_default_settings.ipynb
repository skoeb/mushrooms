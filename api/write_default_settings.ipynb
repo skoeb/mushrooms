{
 "metadata": {
  "language_info": {
   "codemirror_mode": {
    "name": "ipython",
    "version": 3
   },
   "file_extension": ".py",
   "mimetype": "text/x-python",
   "name": "python",
   "nbconvert_exporter": "python",
   "pygments_lexer": "ipython3",
   "version": "3.8.5-final"
  },
  "orig_nbformat": 2,
  "kernelspec": {
   "name": "python3",
   "display_name": "Python 3",
   "language": "python"
  }
 },
 "nbformat": 4,
 "nbformat_minor": 2,
 "cells": [
  {
   "cell_type": "code",
   "execution_count": 1,
   "metadata": {},
   "outputs": [],
   "source": [
    "import pandas as pd\n",
    "from sqlalchemy import create_engine\n",
    "from helper import PostgreSQLCon"
   ]
  },
  {
   "cell_type": "code",
   "execution_count": 2,
   "metadata": {},
   "outputs": [
    {
     "output_type": "execute_result",
     "data": {
      "text/plain": [
       "        sensor data_type device_type  value\n",
       "0  temperature       low       relay     20\n",
       "1  temperature      high       relay     30\n",
       "2     humidity      high       relay     85\n",
       "3     humidity      high       relay     90\n",
       "4          fan   on_mins       inter      5\n",
       "5          fan  off_mins       inter     55"
      ],
      "text/html": "<div>\n<style scoped>\n    .dataframe tbody tr th:only-of-type {\n        vertical-align: middle;\n    }\n\n    .dataframe tbody tr th {\n        vertical-align: top;\n    }\n\n    .dataframe thead th {\n        text-align: right;\n    }\n</style>\n<table border=\"1\" class=\"dataframe\">\n  <thead>\n    <tr style=\"text-align: right;\">\n      <th></th>\n      <th>sensor</th>\n      <th>data_type</th>\n      <th>device_type</th>\n      <th>value</th>\n    </tr>\n  </thead>\n  <tbody>\n    <tr>\n      <th>0</th>\n      <td>temperature</td>\n      <td>low</td>\n      <td>relay</td>\n      <td>20</td>\n    </tr>\n    <tr>\n      <th>1</th>\n      <td>temperature</td>\n      <td>high</td>\n      <td>relay</td>\n      <td>30</td>\n    </tr>\n    <tr>\n      <th>2</th>\n      <td>humidity</td>\n      <td>high</td>\n      <td>relay</td>\n      <td>85</td>\n    </tr>\n    <tr>\n      <th>3</th>\n      <td>humidity</td>\n      <td>high</td>\n      <td>relay</td>\n      <td>90</td>\n    </tr>\n    <tr>\n      <th>4</th>\n      <td>fan</td>\n      <td>on_mins</td>\n      <td>inter</td>\n      <td>5</td>\n    </tr>\n    <tr>\n      <th>5</th>\n      <td>fan</td>\n      <td>off_mins</td>\n      <td>inter</td>\n      <td>55</td>\n    </tr>\n  </tbody>\n</table>\n</div>"
     },
     "metadata": {},
     "execution_count": 2
    }
   ],
   "source": [
    "# --- Download Table ---\n",
    "con = PostgreSQLCon()\n",
    "con.sql_to_pandas('control')"
   ]
  },
  {
   "cell_type": "code",
   "execution_count": 3,
   "metadata": {},
   "outputs": [],
   "source": [
    "default_dict = [\n",
    "    {'sensor': 'temperature', 'data_type': 'low', 'device_type': 'relay', 'value': 20},\n",
    "    {'sensor': 'temperature', 'data_type': 'high', 'device_type': 'relay', 'value': 30},\n",
    "    {'sensor': 'humidity', 'data_type': 'low', 'device_type': 'relay', 'value': 85},\n",
    "    {'sensor': 'humidity', 'data_type': 'high', 'device_type': 'relay', 'value': 90},\n",
    "    {'sensor': 'fan', 'data_type': 'on_mins', 'device_type': 'inter', 'value': 5},\n",
    "    {'sensor': 'fan', 'data_type': 'off_mins', 'device_type': 'inter', 'value': 55},\n",
    "]\n",
    "\n",
    "defaults = pd.DataFrame(default_dict)\n",
    "con.pandas_to_sql(df=defaults, table='control',if_exists='append')"
   ]
  },
  {
   "cell_type": "code",
   "execution_count": null,
   "metadata": {},
   "outputs": [],
   "source": []
  }
 ]
}