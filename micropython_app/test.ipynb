{
 "metadata": {
  "language_info": {
   "codemirror_mode": {
    "name": "ipython",
    "version": 3
   },
   "file_extension": ".py",
   "mimetype": "text/x-python",
   "name": "python",
   "nbconvert_exporter": "python",
   "pygments_lexer": "ipython3",
   "version": "3.7.9-final"
  },
  "orig_nbformat": 2,
  "kernelspec": {
   "name": "python3",
   "display_name": "Python 3"
  }
 },
 "nbformat": 4,
 "nbformat_minor": 2,
 "cells": [
  {
   "cell_type": "code",
   "execution_count": 40,
   "metadata": {},
   "outputs": [
    {
     "output_type": "execute_result",
     "data": {
      "text/plain": [
       "<Response [500]>"
      ]
     },
     "metadata": {},
     "execution_count": 40
    }
   ],
   "source": [
    "import requests\n",
    "import config\n",
    "import json\n",
    "\n",
    "data = {'temperature':int(900), 'humidity':int(900)}\n",
    "headers={\n",
    "    'Content-Type':'application/json',\n",
    "    'Accept': 'application/json',\n",
    "    'authToken': 'sam'}\n",
    "\n",
    "r = requests.post(config.API_URL, data=json.dumps(data), headers=headers)\n",
    "r"
   ]
  },
  {
   "cell_type": "code",
   "execution_count": null,
   "metadata": {},
   "outputs": [],
   "source": []
  },
  {
   "cell_type": "code",
   "execution_count": 34,
   "metadata": {},
   "outputs": [],
   "source": [
    "TOKEN_HEADER_NAME = 'authToken'\n",
    "\n",
    "def token_auth(**kwargs):\n",
    "    if TOKEN_HEADER_NAME not in request.headers:\n",
    "         raise ProcessingException(status=401, code=\"auth\", title=\"Unauthorized\", detail=\"You must be logged in to perform this action.\")\n",
    "    if not is_token_valid(request.headers[TOKEN_HEADER_NAME]):\n",
    "         raise ProcessingException(status=401, code=\"auth\", title=\"Invalid token\", detail=\"Your Auth token is invalid.\")"
   ]
  },
  {
   "cell_type": "code",
   "execution_count": null,
   "metadata": {},
   "outputs": [],
   "source": []
  }
 ]
}