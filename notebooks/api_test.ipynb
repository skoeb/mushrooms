{
 "metadata": {
  "language_info": {
   "codemirror_mode": {
    "name": "ipython",
    "version": 3
   },
   "file_extension": ".py",
   "mimetype": "text/x-python",
   "name": "python",
   "nbconvert_exporter": "python",
   "pygments_lexer": "ipython3",
   "version": "3.8.5-final"
  },
  "orig_nbformat": 2,
  "kernelspec": {
   "name": "python3",
   "display_name": "Python 3.8.5 64-bit ('mp': conda)",
   "metadata": {
    "interpreter": {
     "hash": "4034b745db81bd78412c457d648b887a9deb00d2028a6044f8b32c04bf70b45e"
    }
   }
  }
 },
 "nbformat": 4,
 "nbformat_minor": 2,
 "cells": [
  {
   "cell_type": "code",
   "execution_count": 1,
   "metadata": {},
   "outputs": [
    {
     "output_type": "stream",
     "name": "stdout",
     "text": [
      "/home/skoeb/Desktop/mushrooms/micropython_app\nNo module named 'urequests'\n"
     ]
    }
   ],
   "source": [
    "import os\n",
    "os.chdir(os.path.join('micropython_app'))\n",
    "print(os.getcwd())\n",
    "\n",
    "from config import CONTROL_URL\n",
    "from connection import RequestRetry, post_data, get_data, parse_control_api"
   ]
  },
  {
   "cell_type": "code",
   "execution_count": 4,
   "metadata": {},
   "outputs": [
    {
     "output_type": "stream",
     "name": "stdout",
     "text": [
      "Successful Request: 200\n"
     ]
    },
    {
     "output_type": "execute_result",
     "data": {
      "text/plain": [
       "{'humidity': {'high': 90.0, 'low': 85.0},\n",
       " 'temperature': {'high': 30.0, 'low': 20.0}}"
      ]
     },
     "metadata": {},
     "execution_count": 4
    }
   ],
   "source": [
    "r = get_data(CONTROL_URL)\n",
    "control = parse_control_api(r)\n",
    "control['relay']"
   ]
  },
  {
   "cell_type": "code",
   "execution_count": 3,
   "metadata": {},
   "outputs": [
    {
     "output_type": "execute_result",
     "data": {
      "text/plain": [
       "<Response [200]>"
      ]
     },
     "metadata": {},
     "execution_count": 3
    }
   ],
   "source": [
    "r"
   ]
  }
 ]
}