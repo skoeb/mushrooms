{
 "metadata": {
  "language_info": {
   "codemirror_mode": {
    "name": "ipython",
    "version": 3
   },
   "file_extension": ".py",
   "mimetype": "text/x-python",
   "name": "python",
   "nbconvert_exporter": "python",
   "pygments_lexer": "ipython3",
   "version": "3.9.0-final"
  },
  "orig_nbformat": 2,
  "kernelspec": {
   "name": "python3",
   "display_name": "Python 3",
   "language": "python"
  }
 },
 "nbformat": 4,
 "nbformat_minor": 2,
 "cells": [
  {
   "cell_type": "code",
   "execution_count": 1,
   "metadata": {},
   "outputs": [],
   "source": [
    "import os\n",
    "os.chdir(os.path.join('..', 'api'))\n",
    "import pandas as pd\n",
    "from sqlalchemy import create_engine\n",
    "from helper import PostgreSQLCon\n"
   ]
  },
  {
   "cell_type": "code",
   "execution_count": 2,
   "metadata": {},
   "outputs": [
    {
     "output_type": "execute_result",
     "data": {
      "text/plain": [
       "   id       sensor data_type device_type  limit  value\n",
       "0   0  temperature       low       relay  below     60\n",
       "1   1  temperature      high       relay  below     65\n",
       "2   2     humidity       low       relay  below     85\n",
       "3   3     humidity      high       relay  below     90\n",
       "4   4        co2eq       low       relay  above   1000\n",
       "5   6       lights   on_mins       inter   None     60\n",
       "6   7       lights  off_mins       inter   None      0\n",
       "7   5        co2eq      high       relay  above   4000"
      ],
      "text/html": "<div>\n<style scoped>\n    .dataframe tbody tr th:only-of-type {\n        vertical-align: middle;\n    }\n\n    .dataframe tbody tr th {\n        vertical-align: top;\n    }\n\n    .dataframe thead th {\n        text-align: right;\n    }\n</style>\n<table border=\"1\" class=\"dataframe\">\n  <thead>\n    <tr style=\"text-align: right;\">\n      <th></th>\n      <th>id</th>\n      <th>sensor</th>\n      <th>data_type</th>\n      <th>device_type</th>\n      <th>limit</th>\n      <th>value</th>\n    </tr>\n  </thead>\n  <tbody>\n    <tr>\n      <th>0</th>\n      <td>0</td>\n      <td>temperature</td>\n      <td>low</td>\n      <td>relay</td>\n      <td>below</td>\n      <td>60</td>\n    </tr>\n    <tr>\n      <th>1</th>\n      <td>1</td>\n      <td>temperature</td>\n      <td>high</td>\n      <td>relay</td>\n      <td>below</td>\n      <td>65</td>\n    </tr>\n    <tr>\n      <th>2</th>\n      <td>2</td>\n      <td>humidity</td>\n      <td>low</td>\n      <td>relay</td>\n      <td>below</td>\n      <td>85</td>\n    </tr>\n    <tr>\n      <th>3</th>\n      <td>3</td>\n      <td>humidity</td>\n      <td>high</td>\n      <td>relay</td>\n      <td>below</td>\n      <td>90</td>\n    </tr>\n    <tr>\n      <th>4</th>\n      <td>4</td>\n      <td>co2eq</td>\n      <td>low</td>\n      <td>relay</td>\n      <td>above</td>\n      <td>1000</td>\n    </tr>\n    <tr>\n      <th>5</th>\n      <td>6</td>\n      <td>lights</td>\n      <td>on_mins</td>\n      <td>inter</td>\n      <td>None</td>\n      <td>60</td>\n    </tr>\n    <tr>\n      <th>6</th>\n      <td>7</td>\n      <td>lights</td>\n      <td>off_mins</td>\n      <td>inter</td>\n      <td>None</td>\n      <td>0</td>\n    </tr>\n    <tr>\n      <th>7</th>\n      <td>5</td>\n      <td>co2eq</td>\n      <td>high</td>\n      <td>relay</td>\n      <td>above</td>\n      <td>4000</td>\n    </tr>\n  </tbody>\n</table>\n</div>"
     },
     "metadata": {},
     "execution_count": 2
    }
   ],
   "source": [
    "# --- Download Table ---\n",
    "con = PostgreSQLCon()\n",
    "con.sql_to_pandas('control')"
   ]
  },
  {
   "cell_type": "code",
   "execution_count": 3,
   "metadata": {},
   "outputs": [],
   "source": [
    "default_dict = [\n",
    "    {'sensor': 'temperature', 'data_type': 'low', 'device_type': 'relay', 'limit': 'below', 'value': 60},\n",
    "    {'sensor': 'temperature', 'data_type': 'high', 'device_type': 'relay', 'limit': 'below',  'value': 65},\n",
    "    {'sensor': 'humidity', 'data_type': 'low', 'device_type': 'relay', 'limit': 'below', 'value': 85},\n",
    "    {'sensor': 'humidity', 'data_type': 'high', 'device_type': 'relay', 'limit': 'below', 'value': 90},\n",
    "    {'sensor': 'co2eq', 'data_type': 'low', 'device_type': 'relay', 'limit': 'above',  'value': 900},\n",
    "    {'sensor': 'co2eq', 'data_type': 'high', 'device_type': 'relay', 'limit': 'above',  'value': 1200},\n",
    "    {'sensor': 'lights', 'data_type': 'on_mins', 'device_type': 'inter', 'limit': None, 'value': 60},\n",
    "    {'sensor': 'lights', 'data_type': 'off_mins', 'device_type': 'inter',  'limit': None, 'value': 0},\n",
    "]\n",
    "\n",
    "defaults = pd.DataFrame(default_dict)\n",
    "defaults.index.name = 'id'\n",
    "defaults.reset_index(drop=False, inplace=True)\n",
    "con.pandas_to_sql(df=defaults, table='control',if_exists='append')"
   ]
  },
  {
   "cell_type": "code",
   "execution_count": null,
   "metadata": {},
   "outputs": [],
   "source": []
  }
 ]
}