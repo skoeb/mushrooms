{
 "metadata": {
  "language_info": {
   "codemirror_mode": {
    "name": "ipython",
    "version": 3
   },
   "file_extension": ".py",
   "mimetype": "text/x-python",
   "name": "python",
   "nbconvert_exporter": "python",
   "pygments_lexer": "ipython3",
   "version": "3.9.0-final"
  },
  "orig_nbformat": 2,
  "kernelspec": {
   "name": "python3",
   "display_name": "Python 3",
   "language": "python"
  }
 },
 "nbformat": 4,
 "nbformat_minor": 2,
 "cells": [
  {
   "cell_type": "code",
   "execution_count": 1,
   "metadata": {},
   "outputs": [],
   "source": [
    "import os\n",
    "os.chdir(os.path.join('..', 'api'))\n",
    "import pandas as pd\n",
    "from sqlalchemy import create_engine\n",
    "from helper import PostgreSQLCon\n"
   ]
  },
  {
   "cell_type": "code",
   "execution_count": 2,
   "metadata": {},
   "outputs": [
    {
     "output_type": "execute_result",
     "data": {
      "text/plain": [
       "Empty DataFrame\n",
       "Columns: [id, sensor, data_type, device_type, value]\n",
       "Index: []"
      ],
      "text/html": "<div>\n<style scoped>\n    .dataframe tbody tr th:only-of-type {\n        vertical-align: middle;\n    }\n\n    .dataframe tbody tr th {\n        vertical-align: top;\n    }\n\n    .dataframe thead th {\n        text-align: right;\n    }\n</style>\n<table border=\"1\" class=\"dataframe\">\n  <thead>\n    <tr style=\"text-align: right;\">\n      <th></th>\n      <th>id</th>\n      <th>sensor</th>\n      <th>data_type</th>\n      <th>device_type</th>\n      <th>value</th>\n    </tr>\n  </thead>\n  <tbody>\n  </tbody>\n</table>\n</div>"
     },
     "metadata": {},
     "execution_count": 2
    }
   ],
   "source": [
    "# --- Download Table ---\n",
    "con = PostgreSQLCon()\n",
    "con.sql_to_pandas('control')"
   ]
  },
  {
   "cell_type": "code",
   "execution_count": 3,
   "metadata": {},
   "outputs": [],
   "source": [
    "default_dict = [\n",
    "    {'sensor': 'temperature', 'data_type': 'low', 'device_type': 'relay', 'value': 60},\n",
    "    {'sensor': 'temperature', 'data_type': 'high', 'device_type': 'relay', 'value': 65},\n",
    "    {'sensor': 'humidity', 'data_type': 'low', 'device_type': 'relay', 'value': 85},\n",
    "    {'sensor': 'humidity', 'data_type': 'high', 'device_type': 'relay', 'value': 90},\n",
    "    {'sensor': 'fan', 'data_type': 'on_mins', 'device_type': 'inter', 'value': 60},\n",
    "    {'sensor': 'fan', 'data_type': 'off_mins', 'device_type': 'inter', 'value': 0},\n",
    "    {'sensor': 'lights', 'data_type': 'on_mins', 'device_type': 'inter', 'value': 60},\n",
    "    {'sensor': 'lights', 'data_type': 'off_mins', 'device_type': 'inter', 'value': 0},\n",
    "]\n",
    "\n",
    "defaults = pd.DataFrame(default_dict)\n",
    "defaults.index.name = 'id'\n",
    "defaults.reset_index(drop=False, inplace=True)\n",
    "con.pandas_to_sql(df=defaults, table='control',if_exists='append')"
   ]
  },
  {
   "cell_type": "code",
   "execution_count": null,
   "metadata": {},
   "outputs": [],
   "source": []
  }
 ]
}